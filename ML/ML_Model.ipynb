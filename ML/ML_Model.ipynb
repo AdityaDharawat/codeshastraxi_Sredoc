{
  "cells": [
    {
      "cell_type": "code",
      "execution_count": 3,
      "metadata": {
        "id": "PS8tfkxnTWu0"
      },
      "outputs": [],
      "source": [
        "import numpy as np\n",
        "import pandas as pd"
      ]
    },
    {
      "cell_type": "code",
      "execution_count": 4,
      "metadata": {
        "colab": {
          "base_uri": "https://localhost:8080/"
        },
        "id": "6X4H_flwTYin",
        "outputId": "f120edf6-45b6-4438-9a39-ab44434afe5b"
      },
      "outputs": [
        {
          "name": "stdout",
          "output_type": "stream",
          "text": [
            "Mounted at /content/gdrive\n"
          ]
        }
      ],
      "source": [
        "from google.colab import drive\n",
        "drive.mount('/content/gdrive')"
      ]
    },
    {
      "cell_type": "code",
      "execution_count": null,
      "metadata": {
        "colab": {
          "base_uri": "https://localhost:8080/"
        },
        "id": "rBfy4LEqTaMA",
        "outputId": "309f80e9-9b49-4105-c23b-b670dab70ef6"
      },
      "outputs": [],
      "source": [
        "df = pd.read_csv(\"/content/gdrive/MyDrive/CodeShastra/Hackathon Dataset.csv\")"
      ]
    },
    {
      "cell_type": "code",
      "execution_count": 6,
      "metadata": {
        "id": "MI_wu-89PRuB"
      },
      "outputs": [],
      "source": [
        "def detect_anomalies(row):\n",
        "    anomalies = []\n",
        "\n",
        "    # Unauthorized Discount Check\n",
        "    if row['Discount'] > 0:\n",
        "        if row['Discount'] > (0.20 * row['Sub_Total']) and row['Assign_To'] not in [\"Manager\", \"SAFIK K\"]:\n",
        "            anomalies.append(\"Unauthorized_Discount\")\n",
        "\n",
        "    # Tax Miscalculation Check\n",
        "    expected_tax = (row['CGST_Amount'] + row['SGST_Amount'] + row['VAT_Amount'])\n",
        "    if abs(row['Tax'] - expected_tax) > 1:  # Allow minor rounding errors\n",
        "        anomalies.append(\"Tax_Calculation_Error\")\n",
        "\n",
        "    # Pricing Modification Check\n",
        "    standard_prices = {\"Basmati Rice\": 375, \"THUMPS UP\": 185}  # Example reference prices\n",
        "    if row['Item_Name'] in standard_prices and row['Price'] != standard_prices[row['Item_Name']]:\n",
        "        anomalies.append(\"Price_Modification\")\n",
        "\n",
        "    # Suspicious Transaction Check\n",
        "    if row['Final_Total'] > 5000 and row['Payment_Type'] == \"Cash\":\n",
        "        anomalies.append(\"High_Value_Cash_Transaction\")\n",
        "\n",
        "    if row['Status'] == \"Complimentary\" and row['Final_Total'] > 1000:\n",
        "        anomalies.append(\"High_Value_Complimentary\")\n",
        "\n",
        "    return \", \".join(anomalies) if anomalies else \"Normal\"\n",
        "\n",
        "df['Anomaly_Type'] = df.apply(detect_anomalies, axis=1)"
      ]
    },
    {
      "cell_type": "code",
      "execution_count": 7,
      "metadata": {
        "colab": {
          "base_uri": "https://localhost:8080/",
          "height": 523
        },
        "id": "vNspqqlhPZ8i",
        "outputId": "cf6ac3c8-22e1-4261-9006-a4dddc2a3579"
      },
      "outputs": [
        {
          "data": {
            "text/html": [
              "<div>\n",
              "<style scoped>\n",
              "    .dataframe tbody tr th:only-of-type {\n",
              "        vertical-align: middle;\n",
              "    }\n",
              "\n",
              "    .dataframe tbody tr th {\n",
              "        vertical-align: top;\n",
              "    }\n",
              "\n",
              "    .dataframe thead th {\n",
              "        text-align: right;\n",
              "    }\n",
              "</style>\n",
              "<table border=\"1\" class=\"dataframe\">\n",
              "  <thead>\n",
              "    <tr style=\"text-align: right;\">\n",
              "      <th></th>\n",
              "      <th>count</th>\n",
              "    </tr>\n",
              "    <tr>\n",
              "      <th>Anomaly_Type</th>\n",
              "      <th></th>\n",
              "    </tr>\n",
              "  </thead>\n",
              "  <tbody>\n",
              "    <tr>\n",
              "      <th>Tax_Calculation_Error</th>\n",
              "      <td>152505</td>\n",
              "    </tr>\n",
              "    <tr>\n",
              "      <th>Normal</th>\n",
              "      <td>48178</td>\n",
              "    </tr>\n",
              "    <tr>\n",
              "      <th>Tax_Calculation_Error, High_Value_Complimentary</th>\n",
              "      <td>1695</td>\n",
              "    </tr>\n",
              "    <tr>\n",
              "      <th>Unauthorized_Discount, Tax_Calculation_Error</th>\n",
              "      <td>1600</td>\n",
              "    </tr>\n",
              "    <tr>\n",
              "      <th>High_Value_Complimentary</th>\n",
              "      <td>1523</td>\n",
              "    </tr>\n",
              "    <tr>\n",
              "      <th>Unauthorized_Discount</th>\n",
              "      <td>166</td>\n",
              "    </tr>\n",
              "    <tr>\n",
              "      <th>Tax_Calculation_Error, High_Value_Cash_Transaction</th>\n",
              "      <td>111</td>\n",
              "    </tr>\n",
              "    <tr>\n",
              "      <th>High_Value_Cash_Transaction, High_Value_Complimentary</th>\n",
              "      <td>34</td>\n",
              "    </tr>\n",
              "    <tr>\n",
              "      <th>Unauthorized_Discount, Tax_Calculation_Error, High_Value_Cash_Transaction</th>\n",
              "      <td>26</td>\n",
              "    </tr>\n",
              "    <tr>\n",
              "      <th>High_Value_Cash_Transaction</th>\n",
              "      <td>18</td>\n",
              "    </tr>\n",
              "    <tr>\n",
              "      <th>Tax_Calculation_Error, High_Value_Cash_Transaction, High_Value_Complimentary</th>\n",
              "      <td>18</td>\n",
              "    </tr>\n",
              "    <tr>\n",
              "      <th>Unauthorized_Discount, High_Value_Cash_Transaction</th>\n",
              "      <td>9</td>\n",
              "    </tr>\n",
              "    <tr>\n",
              "      <th>Price_Modification</th>\n",
              "      <td>5</td>\n",
              "    </tr>\n",
              "  </tbody>\n",
              "</table>\n",
              "</div><br><label><b>dtype:</b> int64</label>"
            ],
            "text/plain": [
              "Anomaly_Type\n",
              "Tax_Calculation_Error                                                           152505\n",
              "Normal                                                                           48178\n",
              "Tax_Calculation_Error, High_Value_Complimentary                                   1695\n",
              "Unauthorized_Discount, Tax_Calculation_Error                                      1600\n",
              "High_Value_Complimentary                                                          1523\n",
              "Unauthorized_Discount                                                              166\n",
              "Tax_Calculation_Error, High_Value_Cash_Transaction                                 111\n",
              "High_Value_Cash_Transaction, High_Value_Complimentary                               34\n",
              "Unauthorized_Discount, Tax_Calculation_Error, High_Value_Cash_Transaction           26\n",
              "High_Value_Cash_Transaction                                                         18\n",
              "Tax_Calculation_Error, High_Value_Cash_Transaction, High_Value_Complimentary        18\n",
              "Unauthorized_Discount, High_Value_Cash_Transaction                                   9\n",
              "Price_Modification                                                                   5\n",
              "Name: count, dtype: int64"
            ]
          },
          "execution_count": 7,
          "metadata": {},
          "output_type": "execute_result"
        }
      ],
      "source": [
        "df['Anomaly_Type'].value_counts()"
      ]
    },
    {
      "cell_type": "code",
      "execution_count": 8,
      "metadata": {
        "colab": {
          "base_uri": "https://localhost:8080/"
        },
        "id": "DE76co4MSGfm",
        "outputId": "ca77c9b2-10b0-4ae4-abd1-080d89933813"
      },
      "outputs": [
        {
          "data": {
            "text/plain": [
              "np.int64(205888)"
            ]
          },
          "execution_count": 8,
          "metadata": {},
          "output_type": "execute_result"
        }
      ],
      "source": [
        "df['Anomaly_Type'].value_counts().sum()"
      ]
    },
    {
      "cell_type": "code",
      "execution_count": null,
      "metadata": {
        "id": "dwSG0EKZ40go"
      },
      "outputs": [],
      "source": [
        "import pandas as pd\n",
        "from sklearn.model_selection import train_test_split\n",
        "from sklearn.ensemble import RandomForestClassifier\n",
        "from sklearn.metrics import classification_report\n",
        "import joblib\n",
        "\n",
        "# Generate labeled anomaly data (using our previous detection function)\n",
        "def create_labeled_dataset(df):\n",
        "    labeled_data = []\n",
        "\n",
        "    for _, row in df.iterrows():\n",
        "        anomalies = detect_anomalies(row)\n",
        "\n",
        "        # Initialize severity to \"Low\" by default\n",
        "        severity = \"Low\"\n",
        "\n",
        "        for anomaly_type in anomalies.split(\", \"):  # Split anomalies by comma and space\n",
        "            if anomaly_type != \"Normal\":\n",
        "                # Update severity based on anomaly type\n",
        "                if anomaly_type in [\"High_Value_Cash_Transaction\", \"High_Value_Complimentary\"]:\n",
        "                    severity = \"High\"\n",
        "                elif anomaly_type in [\"Unauthorized_Discount\", \"Price_Modification\"]:\n",
        "                    severity = \"Medium\"\n",
        "                elif anomaly_type == \"Tax_Calculation_Error\":\n",
        "                    severity = \"Low\"\n",
        "\n",
        "                # Construct feature dictionary with severity\n",
        "                features = {\n",
        "                    \"Final_Total\": row[\"Final_Total\"],\n",
        "                    \"Discount_Percentage\": (row[\"Discount\"] / row[\"Sub_Total\"]) if row[\"Sub_Total\"] > 0 else 0,\n",
        "                    \"Tax_Discrepancy\": abs(row[\"Tax\"] - (row[\"CGST_Amount\"] + row[\"SGST_Amount\"] + row[\"VAT_Amount\"])),\n",
        "                    \"Is_Cash\": 1 if row[\"Payment_Type\"] == \"Cash\" else 0,\n",
        "                    \"Is_Complimentary\": 1 if row[\"Status\"] == \"Complimentary\" else 0,\n",
        "                    \"Price_Variation\": abs(row[\"Price\"] - get_standard_price(row[\"Item_Name\"])),\n",
        "                    \"Severity\": severity # Assign severity to features dictionary\n",
        "                }\n",
        "                labeled_data.append(features)\n",
        "\n",
        "    return pd.DataFrame(labeled_data)\n",
        "\n",
        "def get_standard_price(item_name):\n",
        "    # Reference prices (simplified - should be expanded)\n",
        "    standard_prices = {\n",
        "        \"Basmati Rice\": 375, \"THUMPS UP\": 185, \"Manchow Soup (VEG)\": 365,\n",
        "        \"Exotic Stir Fried Vegetable\": 795, \"Roti\": 85\n",
        "    }\n",
        "    return standard_prices.get(item_name, 0)\n",
        "\n",
        "# Create labeled dataset\n",
        "labeled_df = create_labeled_dataset(df)"
      ]
    },
    {
      "cell_type": "code",
      "execution_count": null,
      "metadata": {
        "id": "mtOAMENzpoUX"
      },
      "outputs": [],
      "source": [
        "# Encode severity labels\n",
        "severity_mapping = {\"Critical\": 3, \"High\": 2, \"Medium\": 1, \"Low\": 0}\n",
        "labeled_df[\"Severity_Encoded\"] = labeled_df[\"Severity\"].map(severity_mapping)\n",
        "\n",
        "# Select features and target\n",
        "# Remove 'Fulfillment_Time' as it is not in labeled_df\n",
        "features = labeled_df[[\"Final_Total\", \"Discount_Percentage\", \"Tax_Discrepancy\",\n",
        "                      \"Is_Cash\", \"Is_Complimentary\", \"Price_Variation\"]]\n",
        "target = labeled_df[\"Severity_Encoded\"]\n",
        "\n",
        "# Train-test split\n",
        "X_train, X_test, y_train, y_test = train_test_split(features, target, test_size=0.2, random_state=42)"
      ]
    },
    {
      "cell_type": "code",
      "execution_count": null,
      "metadata": {
        "colab": {
          "base_uri": "https://localhost:8080/"
        },
        "id": "49RK6Uhn5aq-",
        "outputId": "08998d0a-1aa3-40ad-9fa8-d3ab29b52090"
      },
      "outputs": [
        {
          "name": "stdout",
          "output_type": "stream",
          "text": [
            "              precision    recall  f1-score   support\n",
            "\n",
            "        High       1.00      0.98      0.99     31153\n",
            "      Medium       0.49      0.99      0.65       365\n",
            "         Low       0.66      0.99      0.79       732\n",
            "\n",
            "    accuracy                           0.98     32250\n",
            "   macro avg       0.72      0.98      0.81     32250\n",
            "weighted avg       0.99      0.98      0.98     32250\n",
            "\n"
          ]
        }
      ],
      "source": [
        "# Initialize and train Random Forest Classifier\n",
        "model = RandomForestClassifier(\n",
        "    n_estimators=100,\n",
        "    max_depth=10,\n",
        "    class_weight=\"balanced\",  # Handle class imbalance\n",
        "    random_state=42\n",
        ")\n",
        "\n",
        "model.fit(X_train, y_train)\n",
        "\n",
        "# Evaluate\n",
        "y_pred = model.predict(X_test)\n",
        "# Get unique class labels from y_test or y_pred\n",
        "unique_classes = np.unique(y_test)\n",
        "# Filter target_names to match unique classes\n",
        "target_names = [name for name, value in severity_mapping.items() if value in unique_classes]\n",
        "print(classification_report(y_test, y_pred, target_names=target_names))"
      ]
    },
    {
      "cell_type": "code",
      "execution_count": null,
      "metadata": {
        "id": "IGbmhRrA5eRA"
      },
      "outputs": [],
      "source": [
        "# Save the trained model\n",
        "joblib.dump(model, \"anomaly_severity_classifier.pkl\")\n",
        "\n",
        "# Example prediction function\n",
        "def predict_severity(transaction_data):\n",
        "    model = joblib.load(\"anomaly_severity_classifier.pkl\")\n",
        "\n",
        "    # Prepare features in same order as training\n",
        "    features = pd.DataFrame([{\n",
        "        \"Final_Total\": transaction_data[\"Final_Total\"],\n",
        "        \"Discount_Percentage\": transaction_data[\"Discount\"] / transaction_data[\"Sub_Total\"],\n",
        "        \"Tax_Discrepancy\": abs(transaction_data[\"Tax\"] - (transaction_data[\"CGST_Amount\"] + transaction_data[\"SGST_Amount\"] + transaction_data[\"VAT_Amount\"])),\n",
        "        \"Is_Cash\": 1 if transaction_data[\"Payment_Type\"] == \"Cash\" else 0,\n",
        "        \"Is_Complimentary\": 1 if transaction_data[\"Status\"] == \"Complimentary\" else 0,\n",
        "        \"Fulfillment_Time\": transaction_data[\"Fulfillment_Time_Min\"],\n",
        "        \"Price_Variation\": abs(transaction_data[\"Price\"] - get_standard_price(transaction_data[\"Item_Name\"]))\n",
        "    }])\n",
        "\n",
        "    prediction = model.predict(features)[0]\n",
        "    severity_levels = {0: \"Low\", 1: \"Medium\", 2: \"High\", 3: \"Critical\"}\n",
        "    return severity_levels[prediction]"
      ]
    },
    {
      "cell_type": "code",
      "execution_count": null,
      "metadata": {
        "id": "4Gz1VyeJ5pe-"
      },
      "outputs": [],
      "source": [
        "# Enhanced anomaly detection with ML severity prediction\n",
        "def detect_anomalies_with_ml(row):\n",
        "    anomalies = []\n",
        "\n",
        "    # First apply rule-based detection\n",
        "    rule_based_anomalies = detect_anomalies(row)\n",
        "\n",
        "    # Then predict severity for each\n",
        "    for anomaly_type, _ in rule_based_anomalies:\n",
        "        if anomaly_type != \"Normal\":\n",
        "            severity = predict_severity(row)\n",
        "            anomalies.append((anomaly_type, severity))\n",
        "\n",
        "    return anomalies"
      ]
    },
    {
      "cell_type": "code",
      "execution_count": null,
      "metadata": {
        "id": "ORPqSA-b5tkw"
      },
      "outputs": [],
      "source": [
        "# Track model performance over time\n",
        "def log_performance(X_test, y_test):\n",
        "    y_pred = model.predict(X_test)\n",
        "    report = classification_report(y_test, y_pred, output_dict=True)\n",
        "\n",
        "    # Log to file/database\n",
        "    with open(\"model_performance_log.csv\", \"a\") as f:\n",
        "        f.write(f\"{datetime.now()},{report['accuracy']}\\n\")\n",
        "\n",
        "# Retrain periodically\n",
        "def retrain_model(new_data):\n",
        "    global model\n",
        "    new_df = pd.read_csv(new_data)\n",
        "    labeled_df = create_labeled_dataset(new_df)\n",
        "\n",
        "    X = labeled_df[features.columns]\n",
        "    y = labeled_df[\"Severity_Encoded\"]\n",
        "\n",
        "    model.fit(X, y)  # Continue training\n",
        "    joblib.dump(model, \"anomaly_severity_classifier.pkl\")"
      ]
    }
  ],
  "metadata": {
    "colab": {
      "provenance": []
    },
    "kernelspec": {
      "display_name": "Python 3",
      "name": "python3"
    },
    "language_info": {
      "name": "python"
    }
  },
  "nbformat": 4,
  "nbformat_minor": 0
}
